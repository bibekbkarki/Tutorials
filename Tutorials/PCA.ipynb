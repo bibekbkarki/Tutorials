{
 "cells": [
  {
   "cell_type": "markdown",
   "metadata": {},
   "source": [
    "### PCA as a Autoencoder\n",
    "\n",
    "PCA finds the subspace that either minimizes the reconstuction error or maximizes the projected variance. The optimal subspace are spanned by the priciple components of the empirical covariance matrix. \n",
    "\n",
    "PCA is a autoencoder with just one hidden layer, linear activaion(function that encodes and decodes is linear) and MSE loss between the input and reconstruction. It acts as dimensionality reduction that maps n-dimensional to lower. "
   ]
  },
  {
   "cell_type": "code",
   "execution_count": 174,
   "metadata": {},
   "outputs": [],
   "source": [
    "import numpy as np\n",
    "from numpy.linalg import eig\n",
    "import matplotlib.pyplot as plt\n",
    "\n",
    "from sklearn.metrics import mean_squared_error\n",
    "from sklearn.datasets import fetch_openml\n",
    "from sklearn.model_selection import train_test_split\n",
    "from sklearn.decomposition import PCA\n",
    "\n",
    "#Pytorch\n",
    "from torchvision import datasets, transforms"
   ]
  },
  {
   "cell_type": "code",
   "execution_count": 116,
   "metadata": {},
   "outputs": [],
   "source": [
    "mnist = fetch_openml('mnist_784', cache=False)\n",
    "X = mnist[\"data\"].astype('float64')#Data Matrix\n",
    "y = mnist[\"target\"].astype('int64')"
   ]
  },
  {
   "cell_type": "markdown",
   "metadata": {},
   "source": [
    "Dataset $D=\\left\\{x^{(i)} ; i=1: n\\right\\}$ <br>\n",
    "where, $x^{(i)} \\in R^{28 \\times 28}$<br>\n",
    "Here, $x^{(i)}$ is an mnist image flatten into $784 dim$.<br>"
   ]
  },
  {
   "cell_type": "code",
   "execution_count": 127,
   "metadata": {},
   "outputs": [],
   "source": [
    "X = X.to_numpy()\n",
    "y = y.to_numpy()"
   ]
  },
  {
   "cell_type": "code",
   "execution_count": 132,
   "metadata": {},
   "outputs": [
    {
     "name": "stdout",
     "output_type": "stream",
     "text": [
      "Shape: (784,)\n",
      "Label: 5\n"
     ]
    },
    {
     "data": {
      "image/png": "[encoded data removed]",
      "text/plain": [
       "<Figure size 432x288 with 1 Axes>"
      ]
     },
     "metadata": {
      "needs_background": "light"
     },
     "output_type": "display_data"
    }
   ],
   "source": [
    "print(f\"Shape: {X[0].shape}\\nLabel: {y[0]}\")\n",
    "plt.imshow(X[0].reshape(28,28),cmap = \"gray\");"
   ]
  },
  {
   "cell_type": "code",
   "execution_count": 135,
   "metadata": {},
   "outputs": [],
   "source": [
    "X_train, X_test, y_train, y_test = train_test_split(X, y, test_size=0.2, random_state=0)"
   ]
  },
  {
   "cell_type": "markdown",
   "metadata": {},
   "source": [
    "### Preprocessing\n",
    "\n",
    "Zero out the mean by subtracting X from mean of X. No need to normalize to unit variance as image is made of pixel whose value range from 0-255"
   ]
  },
  {
   "cell_type": "markdown",
   "metadata": {},
   "source": [
    "\n",
    "Standarization: $\\quad x_{j}^{(i)} \\leftarrow \\frac{x_{j}^{(i)}-\\mu_{j}}{\\sigma_{j}} \\quad$ where, $j=1: 784$<br>\n",
    "where, j is column of data Matrix $X$. <br>\n",
    "$\\mu_{j}=\\frac{1}{n} \\sum_{i=1}^{n} x_{j}^{(i)}$ and $\\sigma_{j}^{2}=\\frac{1}{n} \\sum_{i=1}^{n}\\left(x_{j}^{(i)}-\\mu_{j}\\right)^{2}$<br>\n",
    "$\\mu_{j}$ and $\\sigma_{j}^{2}$ are sample mean and variance"
   ]
  },
  {
   "cell_type": "code",
   "execution_count": 217,
   "metadata": {},
   "outputs": [],
   "source": [
    "X_centered = X_train - np.mean(X_train,axis=0)"
   ]
  },
  {
   "cell_type": "markdown",
   "metadata": {},
   "source": [
    "For a unit vector u, $x^{T}u$ is the projection of x onto u. So to maximize variance we need to find u that maximizes following:\n",
    "$$\n",
    "\\begin{aligned}\n",
    "\\frac{1}{n} \\sum_{i=1}^{n}\\left(x^{(i)^{T}} u\\right)^{2} &=\\frac{1}{n} \\sum_{i=1}^{n} u^{T} x^{(i)} x^{(i)^{T}} u \\\\\n",
    "&=u^{T}\\left(\\frac{1}{n} \\sum_{i=1}^{n} x^{(i)} x^{(i)^{T}}\\right) u\n",
    "\\end{aligned}\n",
    "$$\n",
    "We easily recognize that the maximizing this subject to $\\|u\\|_{2}=1$(Can be done using Lagrangian....#) gives the principal eigenvector of $\\Sigma=\\frac{1}{n} \\sum_{i=1}^{n} x^{(i)} x^{(i)^{T}}$, which is just the empirical covariance matrix of the data(assumning it has zero mean....##). \n",
    "\n"
   ]
  },
  {
   "cell_type": "markdown",
   "metadata": {},
   "source": [
    "---"
   ]
  },
  {
   "cell_type": "markdown",
   "metadata": {},
   "source": [
    "#\n",
    "Set up the lagrangrian,\n",
    "$$\n",
    "\\mathcal{L}(u, \\lambda)=u^{T} \\Sigma u-\\lambda u^{T} u\n",
    "$$\n",
    "where $\\lambda$ is called the Lagrange multiplier associated with the equality constraint. It can be established that for $u^{*}$ to be a optimal point to the problem, the gradient of the Lagrangian has to be zero at $u^{*}$ (this is not the only condition, but it is required). That is,\n",
    "$$\n",
    "\\nabla_{u} \\mathcal{L}(u, \\lambda)=\\nabla_{u}\\left(u^{T} \\Sigma u-\\lambda u^{T} u\\right)=2 \\Sigma^{T} u-2 \\lambda u=0\n",
    "$$\n",
    "Notice that this is just the linear equation $\\Sigma u=\\lambda u$. This shows that the only points which can possibly maximize (or minimize) $u^{T} \\Sigma u$ assuming $u^{T} u=1$ are the eigenvectors of $\\Sigma$."
   ]
  },
  {
   "cell_type": "markdown",
   "metadata": {},
   "source": [
    "---"
   ]
  },
  {
   "cell_type": "markdown",
   "metadata": {},
   "source": [
    "##\n",
    "\\begin{aligned}\n",
    "\\text{We center the data}: X=X-E[X], \\text{so that } E[X]=0\n",
    "\\end{aligned}"
   ]
  },
  {
   "cell_type": "markdown",
   "metadata": {},
   "source": [
    "\n",
    "\\begin{aligned}\n",
    "\\boldsymbol{\\Sigma}_{\\mathbf{x}} &=\\mathrm{E}\\left[(\\mathrm{X}-\\mathrm{E}[\\mathrm{X}])(\\mathrm{X}-\\mathrm{E}[\\mathrm{X}])^{\\mathrm{T}}\\right] \\\\\n",
    "&\\left.=\\mathrm{E}\\left[\\mathrm{XX}^{\\mathrm{T}}\\right]-\\mathrm{E}[\\mathrm{X}] \\mathrm{E}[\\mathrm{X}]^{\\mathrm{T}}\\right] \\\\\n",
    "&=\\mathrm{E}\\left[\\mathbf{X} \\mathbf{X}^{\\mathrm{T}}\\right]\n",
    "\\end{aligned}"
   ]
  },
  {
   "cell_type": "code",
   "execution_count": 142,
   "metadata": {},
   "outputs": [],
   "source": [
    "cov_X =  X_centered.T.dot(X_centered)/(X_train.shape[0]-1)"
   ]
  },
  {
   "cell_type": "code",
   "execution_count": 144,
   "metadata": {},
   "outputs": [],
   "source": [
    "eigenvalues, eigenvectors = eig(cov_X)\n",
    "eigenvalues = np.real(eigenvalues)\n",
    "eigenvectors = np.real(eigenvectors)"
   ]
  },
  {
   "cell_type": "code",
   "execution_count": 149,
   "metadata": {},
   "outputs": [],
   "source": [
    "sortIndex = np.flip(np.argsort(eigenvalues))"
   ]
  },
  {
   "cell_type": "code",
   "execution_count": 152,
   "metadata": {},
   "outputs": [
    {
     "data": {
      "text/plain": [
       "(784,)"
      ]
     },
     "execution_count": 152,
     "metadata": {},
     "output_type": "execute_result"
    }
   ],
   "source": [
    "sortIndex.shape"
   ]
  },
  {
   "cell_type": "code",
   "execution_count": 156,
   "metadata": {},
   "outputs": [],
   "source": [
    "def getKeigVec(npArr,sortIndex):\n",
    "    return npArr[:,sortIndex]"
   ]
  },
  {
   "cell_type": "code",
   "execution_count": 169,
   "metadata": {},
   "outputs": [
    {
     "data": {
      "image/png": "[encoded data removed]",
      "text/plain": [
       "<Figure size 432x288 with 1 Axes>"
      ]
     },
     "metadata": {
      "needs_background": "light"
     },
     "output_type": "display_data"
    }
   ],
   "source": [
    "plt.title(\"Original\")\n",
    "plt.imshow(X_centered[0].reshape(28,28));"
   ]
  },
  {
   "cell_type": "markdown",
   "metadata": {},
   "source": [
    "We choose top k eigen vectors from u, which becomes the orthogonal basis of the data. Then use that basis to represent the data. When k < 784, we would sucessfully reduce dimension or encode into low dimentional and can attempt to reconstruct or decode back to original image with a reconstructional error."
   ]
  },
  {
   "cell_type": "markdown",
   "metadata": {},
   "source": [
    "$y^{(i)}=\\left[\\begin{array}{c}u_{1}^{T} x^{(i)} \\\\ u_{2}^{T} x^{(i)} \\\\ \\vdots \\\\ u_{k}^{T} x^{(i)}\\end{array}\\right] \\in \\mathbb{R}^{k}$<br>\n",
    "<br>\n",
    "Now, $y^{(i)} \\in \\mathbb{R}^{k}$"
   ]
  },
  {
   "cell_type": "code",
   "execution_count": 215,
   "metadata": {},
   "outputs": [
    {
     "data": {
      "image/png": "[encoded data removed]",
      "text/plain": [
       "<Figure size 432x288 with 1 Axes>"
      ]
     },
     "metadata": {
      "needs_background": "light"
     },
     "output_type": "display_data"
    },
    {
     "name": "stdout",
     "output_type": "stream",
     "text": [
      "\n",
      "Overall Reconstruction Error ( k = 16): 1769.9475489447036\n",
      "==================================================\n"
     ]
    },
    {
     "data": {
      "image/png": "[encoded data removed]",
      "text/plain": [
       "<Figure size 432x288 with 1 Axes>"
      ]
     },
     "metadata": {
      "needs_background": "light"
     },
     "output_type": "display_data"
    },
    {
     "name": "stdout",
     "output_type": "stream",
     "text": [
      "\n",
      "Overall Reconstruction Error ( k = 30): 1173.1384804826835\n",
      "==================================================\n"
     ]
    },
    {
     "data": {
      "image/png": "[encoded data removed]",
      "text/plain": [
       "<Figure size 432x288 with 1 Axes>"
      ]
     },
     "metadata": {
      "needs_background": "light"
     },
     "output_type": "display_data"
    },
    {
     "name": "stdout",
     "output_type": "stream",
     "text": [
      "\n",
      "Overall Reconstruction Error ( k = 100): 371.5883695931411\n",
      "==================================================\n"
     ]
    },
    {
     "data": {
      "image/png": "[encoded data removed]",
      "text/plain": [
       "<Figure size 432x288 with 1 Axes>"
      ]
     },
     "metadata": {
      "needs_background": "light"
     },
     "output_type": "display_data"
    },
    {
     "name": "stdout",
     "output_type": "stream",
     "text": [
      "\n",
      "Overall Reconstruction Error ( k = 500): 3.233233202045992\n",
      "==================================================\n"
     ]
    }
   ],
   "source": [
    "for k in [16,30,100,500]:\n",
    "    kComp = getKeigVec(eigenvectors,sortIndex[:k])\n",
    "    X_projected_k = X_centered.dot(kComp)\n",
    "    X_reconstructed_k = X_projected_k.dot(kComp.T)\n",
    "    plt.figure()\n",
    "    plt.title(\"Reconstructed\")\n",
    "    plt.imshow(X_reconstructed_k[0].reshape(28,28))\n",
    "    plt.show()\n",
    "    reconstruction_error = mean_squared_error(X_centered, X_reconstructed_k)\n",
    "    print(f\"\\nOverall Reconstruction Error ( k = {k}): { reconstruction_error}\")\n",
    "    print('='*50)"
   ]
  },
  {
   "cell_type": "code",
   "execution_count": 189,
   "metadata": {},
   "outputs": [
    {
     "data": {
      "text/plain": [
       "PCA(n_components=16)"
      ]
     },
     "execution_count": 189,
     "metadata": {},
     "output_type": "execute_result"
    }
   ],
   "source": [
    "pca = PCA(n_components=16)\n",
    "pca.fit(X)"
   ]
  },
  {
   "cell_type": "code",
   "execution_count": 196,
   "metadata": {},
   "outputs": [
    {
     "name": "stdout",
     "output_type": "stream",
     "text": [
      "Overall Reconstruction Error: 1770.4597332879594\n"
     ]
    },
    {
     "data": {
      "image/png": "[encoded data removed]",
      "text/plain": [
       "<Figure size 432x288 with 1 Axes>"
      ]
     },
     "metadata": {
      "needs_background": "light"
     },
     "output_type": "display_data"
    }
   ],
   "source": [
    "X_projected_sklearn = pca.transform(X)\n",
    "X_reconstructed_sklearn = pca.inverse_transform(X_projected_sklearn)\n",
    "reconstruction_error = mean_squared_error(X, X_reconstructed_sklearn)\n",
    "print(f\"Overall Reconstruction Error: {reconstruction_error}\")\n",
    "plt.imshow(X_reconstructed_sklearn[0].reshape(28,28));"
   ]
  },
  {
   "cell_type": "code",
   "execution_count": 212,
   "metadata": {},
   "outputs": [],
   "source": [
    "done = []\n",
    "reconstructions = {}\n",
    "original_images = {}\n",
    "for i in range(1000):\n",
    "    image,label = X[i],y[i]\n",
    "    if label not in done:\n",
    "        done.append(label)\n",
    "        original_images[done[-1]] = image.reshape(28,28)\n",
    "        reconstructions[done[-1]] = X_reconstructed_sklearn[i].reshape(28,28) \n",
    "\n",
    "    if len(done) == 10:\n",
    "        break\n",
    "                \n"
   ]
  },
  {
   "cell_type": "code",
   "execution_count": 213,
   "metadata": {},
   "outputs": [
    {
     "data": {
      "image/png": "[encoded data removed]",
      "text/plain": [
       "<Figure size 360x144 with 2 Axes>"
      ]
     },
     "metadata": {
      "needs_background": "light"
     },
     "output_type": "display_data"
    },
    {
     "data": {
      "image/png": "[encoded data removed]",
      "text/plain": [
       "<Figure size 360x144 with 2 Axes>"
      ]
     },
     "metadata": {
      "needs_background": "light"
     },
     "output_type": "display_data"
    },
    {
     "data": {
      "image/png": "[encoded data removed]",
      "text/plain": [
       "<Figure size 360x144 with 2 Axes>"
      ]
     },
     "metadata": {
      "needs_background": "light"
     },
     "output_type": "display_data"
    },
    {
     "data": {
      "image/png": "[encoded data removed]",
      "text/plain": [
       "<Figure size 360x144 with 2 Axes>"
      ]
     },
     "metadata": {
      "needs_background": "light"
     },
     "output_type": "display_data"
    },
    {
     "data": {
      "image/png": "[encoded data removed]",
      "text/plain": [
       "<Figure size 360x144 with 2 Axes>"
      ]
     },
     "metadata": {
      "needs_background": "light"
     },
     "output_type": "display_data"
    },
    {
     "data": {
      "image/png": "[encoded data removed]",
      "text/plain": [
       "<Figure size 360x144 with 2 Axes>"
      ]
     },
     "metadata": {
      "needs_background": "light"
     },
     "output_type": "display_data"
    },
    {
     "data": {
      "image/png": "[encoded data removed]",
      "text/plain": [
       "<Figure size 360x144 with 2 Axes>"
      ]
     },
     "metadata": {
      "needs_background": "light"
     },
     "output_type": "display_data"
    },
    {
     "data": {
      "image/png": "[encoded data removed]",
      "text/plain": [
       "<Figure size 360x144 with 2 Axes>"
      ]
     },
     "metadata": {
      "needs_background": "light"
     },
     "output_type": "display_data"
    },
    {
     "data": {
      "image/png": "[encoded data removed]",
      "text/plain": [
       "<Figure size 360x144 with 2 Axes>"
      ]
     },
     "metadata": {
      "needs_background": "light"
     },
     "output_type": "display_data"
    },
    {
     "data": {
      "image/png": "[encoded data removed]",
      "text/plain": [
       "<Figure size 360x144 with 2 Axes>"
      ]
     },
     "metadata": {
      "needs_background": "light"
     },
     "output_type": "display_data"
    }
   ],
   "source": [
    "#Plotting the figures\n",
    "for i in range(10):\n",
    "    plt.figure(figsize=(5, 2))\n",
    "    \n",
    "    ax = plt.subplot(1, 2, 1)\n",
    "    plt.imshow(original_images[i])\n",
    "    plt.gray()\n",
    "    ax.get_xaxis().set_visible(False)\n",
    "    ax.get_yaxis().set_visible(False)\n",
    "    plt.title('original')\n",
    "    \n",
    "    ax = plt.subplot(1, 2, 2)\n",
    "    plt.imshow(reconstructions[i])\n",
    "    plt.gray()\n",
    "    ax.get_xaxis().set_visible(False)\n",
    "    ax.get_yaxis().set_visible(False)\n",
    "    plt.title('reconstructed')"
   ]
  },
  {
   "cell_type": "code",
   "execution_count": null,
   "metadata": {},
   "outputs": [],
   "source": []
  }
 ],
 "metadata": {
  "kernelspec": {
   "display_name": "Python 3",
   "language": "python",
   "name": "python3"
  },
  "language_info": {
   "codemirror_mode": {
    "name": "ipython",
    "version": 3
   },
   "file_extension": ".py",
   "mimetype": "text/x-python",
   "name": "python",
   "nbconvert_exporter": "python",
   "pygments_lexer": "ipython3",
   "version": "3.7.9"
  }
 },
 "nbformat": 4,
 "nbformat_minor": 4
}

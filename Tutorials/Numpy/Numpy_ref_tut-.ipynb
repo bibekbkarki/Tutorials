{
 "cells": [
  {
   "cell_type": "markdown",
   "metadata": {},
   "source": [
    "## Numpy Refrences\n"
   ]
  },
  {
   "cell_type": "markdown",
   "metadata": {},
   "source": [
    "#### Install Numpy"
   ]
  },
  {
   "cell_type": "code",
   "execution_count": 2,
   "metadata": {},
   "outputs": [],
   "source": [
    "#pip install numpy"
   ]
  },
  {
   "cell_type": "markdown",
   "metadata": {},
   "source": [
    "#### Import Numpy"
   ]
  },
  {
   "cell_type": "code",
   "execution_count": 2,
   "metadata": {},
   "outputs": [],
   "source": [
    "import numpy as np"
   ]
  },
  {
   "cell_type": "markdown",
   "metadata": {},
   "source": [
    "### 1) Introduction\n",
    "\n",
    "Numpy is python pacakage that provides multidimentional array object(or simply ndarray) and supports other mathmatical operation. It depends on an accelerated linear algebra library. It is used to vectorize the code. \n",
    "\n"
   ]
  },
  {
   "cell_type": "markdown",
   "metadata": {},
   "source": [
    "\\begin{array}{l}\n",
    "2 x+3 y=4 \\ldots . .(1) \\\\\n",
    "5 x-y=7 \\ldots . .(2) \\\\\n",
    "{\\left[\\begin{array}{rr}\n",
    "2 & 3 \\\\\n",
    "5 & -1\n",
    "\\end{array}\\right]\\left[\\begin{array}{l}\n",
    "x \\\\\n",
    "y\n",
    "\\end{array}\\right]=\\left[\\begin{array}{l}\n",
    "4 \\\\\n",
    "7\n",
    "\\end{array}\\right]}\n",
    "\\end{array}"
   ]
  },
  {
   "cell_type": "markdown",
   "metadata": {},
   "source": [
    "### Time Comparision: Vectorized vs Loop"
   ]
  },
  {
   "cell_type": "code",
   "execution_count": 6,
   "metadata": {},
   "outputs": [],
   "source": [
    "arr = np.arange(10000) ## arr is list of number between 0 and 10000"
   ]
  },
  {
   "cell_type": "markdown",
   "metadata": {},
   "source": [
    "Find sum regular loop"
   ]
  },
  {
   "cell_type": "code",
   "execution_count": 7,
   "metadata": {},
   "outputs": [
    {
     "name": "stdout",
     "output_type": "stream",
     "text": [
      "1.55 ms ± 18.1 µs per loop (mean ± std. dev. of 7 runs, 100 loops each)\n"
     ]
    }
   ],
   "source": [
    "%%timeit\n",
    "sum = 0\n",
    "for x in arr:\n",
    "    sum += x"
   ]
  },
  {
   "cell_type": "markdown",
   "metadata": {},
   "source": [
    "Find sum vectorized numpy"
   ]
  },
  {
   "cell_type": "code",
   "execution_count": 8,
   "metadata": {},
   "outputs": [
    {
     "name": "stdout",
     "output_type": "stream",
     "text": [
      "7.05 µs ± 180 ns per loop (mean ± std. dev. of 7 runs, 100000 loops each)\n"
     ]
    }
   ],
   "source": [
    "%timeit  sum_vec = arr.sum()"
   ]
  },
  {
   "cell_type": "markdown",
   "metadata": {},
   "source": [
    "### Contents\n",
    "#### 1. Initialize Numpy arrays\n",
    "#### 2.  Changing nparrays without changing its elements\n",
    "#### 3. Stacking nparrays\n",
    "#### 3. Mathmatical Operation\n",
    "\n",
    "---\n",
    "<br />"
   ]
  },
  {
   "cell_type": "markdown",
   "metadata": {},
   "source": [
    "### *1) Initialize Numpy arrays*"
   ]
  },
  {
   "cell_type": "markdown",
   "metadata": {},
   "source": [
    "## Initialize"
   ]
  },
  {
   "cell_type": "code",
   "execution_count": 3,
   "metadata": {},
   "outputs": [
    {
     "name": "stdout",
     "output_type": "stream",
     "text": [
      "Initialize Directly: [1 2 3]\n",
      "\n",
      "Type of arr1: <class 'numpy.ndarray'>\n",
      "\n",
      "Initalize through a variable: [1 2 4 5]\n",
      "Last array: [1 2 3 4]\n",
      "Initialize nparray with data type: [1. 2. 3.]\n",
      "Initialize nparray with Same type: [1. 2. 3.]\n"
     ]
    },
    {
     "data": {
      "text/plain": [
       "array([[1, 2],\n",
       "       [3, 4]])"
      ]
     },
     "execution_count": 3,
     "metadata": {},
     "output_type": "execute_result"
    }
   ],
   "source": [
    " # Initialize Directly\n",
    "arr1 = np.array([1,2,3])\n",
    "print(f'Initialize Directly: {arr1}')\n",
    "\n",
    "#Check Type of a data structure\n",
    "print(f'\\nType of arr1: {type(arr1)}\\n')\n",
    "\n",
    "\n",
    "# Initalize through a variable\n",
    "a_list = [1,2,4,5]\n",
    "arr2 = np.array(a_list) \n",
    "print(f'Initalize through a variable: {arr2}')\n",
    "\n",
    "\n",
    "# arr_3 is mutable\n",
    "a_list2 = (1,2,3,4)\n",
    "arr_3 = np.array(a_list2)\n",
    "print(f'Last array: {arr_3}')\n",
    "\n",
    "#Initialize nparray with data type\n",
    "print(f'Initialize nparray with data type: {np.array([1,2,3],dtype=np.float)}') \n",
    "\n",
    "#Initialize nparray as float\n",
    "print(f'Initialize nparray with Same type: {np.array([1.,2,3])}') \n",
    "\n",
    "\n",
    "#Initialize Matrix\n",
    "np.array(np.mat('1 2; 3 4'))\n"
   ]
  },
  {
   "cell_type": "markdown",
   "metadata": {},
   "source": [
    "Numpy doc to Generate Numbers from Different Distribution: https://numpy.org/doc/stable/reference/random/generator.html"
   ]
  },
  {
   "cell_type": "markdown",
   "metadata": {},
   "source": [
    "## Generate"
   ]
  },
  {
   "cell_type": "code",
   "execution_count": 24,
   "metadata": {},
   "outputs": [
    {
     "name": "stdout",
     "output_type": "stream",
     "text": [
      "Initialize Zeros: \n",
      "[[0. 0. 0.]\n",
      " [0. 0. 0.]]\n",
      "\n",
      "Initialize Ones: \n",
      "[[1 1 1]\n",
      " [1 1 1]]\n",
      "\n",
      "Random int with range 2-10 and size (2,3):\n",
      " [[4 9 9]\n",
      " [7 5 9]]\n",
      "\n",
      "Initialize Identity Matrix: \n",
      "[[1. 0. 0.]\n",
      " [0. 1. 0.]\n",
      " [0. 0. 1.]]\n",
      "\n",
      " Standard Normally distributed N(0,1) numbers of size (2,4,5):\n",
      " [[[-0.64544824 -1.51304404 -1.37591274  0.00508362 -0.78618364]\n",
      "  [-0.47789729  0.97713084  0.76675664  0.21784243  0.69166096]\n",
      "  [ 0.84182729  0.62233288 -0.39658377  0.34376254 -0.65483739]\n",
      "  [-0.9225994  -1.08886618 -1.67919231  1.04579266 -0.00798195]]\n",
      "\n",
      " [[-1.1738116  -1.27097883 -1.33562845  0.12335013  0.42654004]\n",
      "  [ 1.53972398  0.07707966 -0.41494563  0.78594854 -0.368931  ]\n",
      "  [ 1.43612124  0.79219879 -0.85597023 -1.30758438 -0.64913588]\n",
      "  [ 1.0067202   0.31679251  0.67459116  2.1937734   0.40534861]]]\n"
     ]
    }
   ],
   "source": [
    "# Initialize a zeros nparray \n",
    "print(f'Initialize Zeros: \\n{np.zeros((2,3))}\\n') # Note the argument is shape so double brackets\n",
    "\n",
    "# Initialize a Ones nparray \n",
    "print(f'Initialize Ones: \\n{np.ones((2,3),dtype=int)}\\n') # Note the argument is shape so double brackets\n",
    "\n",
    "# Random int with range 2-10 and size (2,3)\n",
    "print(f'Random int with range 2-10 and size (2,3):\\n {np.random.randint(2,10,size=(2,3))}\\n') \n",
    "\n",
    "# Initialize the Identity Matrix\n",
    "print(f'Initialize Identity Matrix: \\n{np.eye(3,3)}\\n')\n",
    "\n",
    "# Standard Normally distributed N(0,1) numbers of size (2,4,5)\n",
    "print(f' Standard Normally distributed N(0,1) numbers of size (2,4,5):\\n {np.random.randn(2,4,5)}')# Note no size as argument"
   ]
  },
  {
   "cell_type": "code",
   "execution_count": 5,
   "metadata": {},
   "outputs": [
    {
     "name": "stdout",
     "output_type": "stream",
     "text": [
      "Arrange: [3 4 5 6 7 8 9]\n",
      "LineSpace: [2.   2.25 2.5  2.75 3.  ]\n"
     ]
    }
   ],
   "source": [
    "# Arrange a numpy array\n",
    "print(f'Arrange: {np.arange(3,10)}')\n",
    "\n",
    "#  evenly spaced numbers over a specified interval\n",
    "print(f'LineSpace: {np.linspace(2.0, 3.0, num=5)}')"
   ]
  },
  {
   "cell_type": "markdown",
   "metadata": {},
   "source": [
    " #### 2) *Changing nparrays without changing its elements*"
   ]
  },
  {
   "cell_type": "markdown",
   "metadata": {},
   "source": [
    "### Shuffle and Permute"
   ]
  },
  {
   "cell_type": "code",
   "execution_count": 17,
   "metadata": {},
   "outputs": [
    {
     "name": "stdout",
     "output_type": "stream",
     "text": [
      "Shuffling arr_a: [ 6  5  1  9  7  0 10  4 11  3  8  2]\n",
      "[[0 1 2]\n",
      " [3 4 5]\n",
      " [6 7 8]]\n"
     ]
    }
   ],
   "source": [
    "\n",
    "#Shuffling the nparray\n",
    "np.random.shuffle(arr_a)\n",
    "print(f'Shuffling arr_a: {arr_a}')\n",
    "\n",
    "# Permutation of nparray\n",
    "arr = np.arange(9).reshape((3, 3))\n",
    "np.random.permutation(arr)\n",
    "print(arr )"
   ]
  },
  {
   "cell_type": "markdown",
   "metadata": {},
   "source": [
    "### Transpose "
   ]
  },
  {
   "cell_type": "code",
   "execution_count": 96,
   "metadata": {},
   "outputs": [
    {
     "name": "stdout",
     "output_type": "stream",
     "text": [
      "Original nparray:\n",
      " [[ 0  1  2  3]\n",
      " [ 4  5  6  7]\n",
      " [ 8  9 10 11]] (3, 4) \n",
      "Transpose: \n",
      " [[ 0  4  8]\n",
      " [ 1  5  9]\n",
      " [ 2  6 10]\n",
      " [ 3  7 11]] (4, 3)\n",
      "Shape of Original x: (1, 2, 3)\t Shape of Transpose(1,0,2): (2, 1, 3)\n"
     ]
    }
   ],
   "source": [
    "## Transpose \n",
    "print('Original nparray:\\n',arr_b,arr_b.shape,'\\nTranspose: \\n',arr_b.T,arr_b.T.shape)\n",
    "\n",
    "x = np.ones((1, 2, 3))\n",
    "print(f'Shape of Original x: {x.shape}\\t Shape of Transpose(1,0,2): {np.transpose(x, (1, 0, 2)).shape}')"
   ]
  },
  {
   "cell_type": "markdown",
   "metadata": {},
   "source": [
    "#### Transpose(1,2,0)   =>  H W C to C H W    \n",
    "---\n",
    "#### np.transpose(npimg, (1, 2, 0)\n",
    "---\n",
    "#### Or torch image=>img = torch.transpose(img,2,0)"
   ]
  },
  {
   "cell_type": "markdown",
   "metadata": {},
   "source": [
    "### Reshape"
   ]
  },
  {
   "cell_type": "code",
   "execution_count": 20,
   "metadata": {},
   "outputs": [
    {
     "name": "stdout",
     "output_type": "stream",
     "text": [
      "arr_a before: [ 0  1  2  3  4  5  6  7  8  9 10 11]\n",
      "Reshape the dimension of nparray:\n",
      " [[ 0  1  2  3]\n",
      " [ 4  5  6  7]\n",
      " [ 8  9 10 11]]\n",
      "\n",
      "Shape:  (3, 4)\n"
     ]
    }
   ],
   "source": [
    "# Reshape the nparray\n",
    "arr_a = np.arange(12)\n",
    "print(f'arr_a before: {arr_a}')\n",
    "\n",
    "arr_b = np.reshape(arr_a,(3,4))\n",
    "print(f'Reshape the dimension of nparray:\\n {arr_b}\\n') # Note : dimension should match\n",
    "print('Shape: ',arr_b.shape)"
   ]
  },
  {
   "cell_type": "markdown",
   "metadata": {},
   "source": [
    "### Flatten the nparray"
   ]
  },
  {
   "cell_type": "code",
   "execution_count": 27,
   "metadata": {},
   "outputs": [
    {
     "name": "stdout",
     "output_type": "stream",
     "text": [
      "Original Array: \n",
      "[[ 0  1  2  3]\n",
      " [ 4  5  6  7]\n",
      " [ 8  9 10 11]] \n",
      " Flatten Array: \n",
      "[ 0  1  2  3  4  5  6  7  8  9 10 11]\n"
     ]
    }
   ],
   "source": [
    "print(f'Original Array: \\n{arr_b} \\n Flatten Array: \\n{arr_b.flatten()}') ## arr_b.ravel"
   ]
  },
  {
   "cell_type": "markdown",
   "metadata": {},
   "source": [
    "### Squeeze "
   ]
  },
  {
   "cell_type": "code",
   "execution_count": 34,
   "metadata": {},
   "outputs": [
    {
     "name": "stdout",
     "output_type": "stream",
     "text": [
      "Shape of X: (1, 3, 1) \n",
      " Shape after Squeezed: (3,)\n",
      "\n",
      "Shape of X: (1, 3, 1) \n",
      " Shape after Squeezed: (1, 3)\n"
     ]
    }
   ],
   "source": [
    "# squeeze removes all the 1 dimension in all axes  \n",
    "x = np.array([[[0], [1], [2]]])\n",
    "print(f'Shape of X: {x.shape} \\n Shape after Squeezed: {x.squeeze().shape}')\n",
    "\n",
    "#Squeeze the Dimension specficed by axis\n",
    "print(f'\\nShape of X: {x.shape} \\n Shape after Squeezed: {x.squeeze(axis=2).shape}') ## Squeezed axis 2"
   ]
  },
  {
   "cell_type": "markdown",
   "metadata": {},
   "source": [
    "### Expand Dimension (2,) => (2,1)"
   ]
  },
  {
   "cell_type": "code",
   "execution_count": 46,
   "metadata": {},
   "outputs": [
    {
     "name": "stdout",
     "output_type": "stream",
     "text": [
      "Original : (2,) \n",
      " Expanded : (2, 1)\n",
      "Original :(2,)\n",
      " Expanded(Short Way): (2, 1) \t (1, 2)\n"
     ]
    }
   ],
   "source": [
    "x = np.array([1,2])\n",
    "print(f'Original : {x.shape} \\n Expanded : {np.expand_dims(x,axis=1).shape}')\n",
    "\n",
    "## Short way to expand dim : x[:,None]\n",
    "print(f'Original :{x.shape}\\n Expanded(Short Way): {x[:,None].shape} \\t {x[None,:].shape}')"
   ]
  },
  {
   "cell_type": "markdown",
   "metadata": {},
   "source": [
    "### 3. Stacking nparrays"
   ]
  },
  {
   "cell_type": "markdown",
   "metadata": {},
   "source": [
    "### Axis argument  "
   ]
  },
  {
   "cell_type": "markdown",
   "metadata": {},
   "source": [
    "#### Stackoverflow explanation of axis: https://stackoverflow.com/questions/17079279/how-is-axis-indexed-in-numpys-array"
   ]
  },
  {
   "cell_type": "markdown",
   "metadata": {},
   "source": [
    "#### For 2d: 0 is down and 1 is right"
   ]
  },
  {
   "cell_type": "code",
   "execution_count": 57,
   "metadata": {},
   "outputs": [
    {
     "data": {
      "text/plain": [
       "array([[[6, 8, 0, 5],\n",
       "        [2, 1, 0, 8],\n",
       "        [3, 5, 4, 1]],\n",
       "\n",
       "       [[9, 4, 6, 0],\n",
       "        [2, 4, 7, 9],\n",
       "        [9, 5, 1, 3]]])"
      ]
     },
     "execution_count": 57,
     "metadata": {},
     "output_type": "execute_result"
    }
   ],
   "source": [
    "x = np.random.randint(10,size=(2,3,4))\n",
    "x"
   ]
  },
  {
   "cell_type": "code",
   "execution_count": 62,
   "metadata": {},
   "outputs": [
    {
     "name": "stdout",
     "output_type": "stream",
     "text": [
      "[[11 14  4 14]\n",
      " [20 13 14 12]] \tShape:  (2, 4)\n"
     ]
    }
   ],
   "source": [
    "sumX = np.sum(x,axis=1)\n",
    "print(sumX, '\\tShape: ',sumX.shape)"
   ]
  },
  {
   "cell_type": "markdown",
   "metadata": {},
   "source": [
    "if you do .sum(axis=n), for example, then dimension n is collapsed and deleted, with each value in the new matrix equal to the sum of the corresponding collapsed values. For example, if b has shape (5,6,7,8), and you do c = b.sum(axis=2), then axis 2 (dimension with size 7) is collapsed, and the result has shape (5,6,8). Furthermore, c[x,y,z] is equal to the sum of all elements b[x,y,:,z]"
   ]
  },
  {
   "cell_type": "code",
   "execution_count": 68,
   "metadata": {},
   "outputs": [
    {
     "name": "stdout",
     "output_type": "stream",
     "text": [
      "[6 7 1] Equals\t 14\n"
     ]
    }
   ],
   "source": [
    "print(x[1,:,2], 'Equals\\t',x[1,:,2].sum())"
   ]
  },
  {
   "cell_type": "code",
   "execution_count": 75,
   "metadata": {},
   "outputs": [
    {
     "name": "stdout",
     "output_type": "stream",
     "text": [
      "sumX[1,2]: 14 \t \n",
      "equals: \n",
      "x[1,0,2]=> 6 + x[1,1,2]=> 7 + x[1,2,2]=> 1 = 14\n"
     ]
    }
   ],
   "source": [
    "print(f'sumX[1,2]: {sumX[1,2]} \\t \\nequals: ')\n",
    "print('x[1,0,2]=>',x[1,0,2],'+','x[1,1,2]=>',x[1,1,2],'+','x[1,2,2]=>',x[1,2,2],'=',x[1,:,2].sum())"
   ]
  },
  {
   "cell_type": "markdown",
   "metadata": {},
   "source": [
    "### Stacking: Concatenation , hstack,vstack,np.c_,np.r_ "
   ]
  },
  {
   "cell_type": "code",
   "execution_count": 80,
   "metadata": {},
   "outputs": [
    {
     "name": "stdout",
     "output_type": "stream",
     "text": [
      "Array 1 is \n",
      " [[[1 2 0 0 0]\n",
      "  [0 0 1 2 0]\n",
      "  [0 2 1 1 2]\n",
      "  [2 1 2 1 0]]\n",
      "\n",
      " [[2 0 0 0 2]\n",
      "  [2 1 1 0 1]\n",
      "  [1 1 1 0 2]\n",
      "  [0 0 1 1 2]]\n",
      "\n",
      " [[1 1 2 0 2]\n",
      "  [0 1 1 0 0]\n",
      "  [1 1 1 2 0]\n",
      "  [1 0 1 0 0]]] \n",
      "\n",
      "\n",
      "Array 2 is \n",
      " [[[3 3 0 1 1]\n",
      "  [3 0 0 1 2]\n",
      "  [3 1 2 1 0]\n",
      "  [1 3 1 3 2]]\n",
      "\n",
      " [[2 3 1 0 1]\n",
      "  [2 3 0 2 3]\n",
      "  [3 1 3 2 3]\n",
      "  [3 0 2 1 2]]\n",
      "\n",
      " [[3 3 3 3 1]\n",
      "  [2 3 0 1 0]\n",
      "  [2 1 1 1 2]\n",
      "  [3 2 2 2 2]]] \n",
      "\n",
      "\n",
      "Concatenated array is \n",
      " [[[1 2 0 0 0]\n",
      "  [0 0 1 2 0]\n",
      "  [0 2 1 1 2]\n",
      "  [2 1 2 1 0]]\n",
      "\n",
      " [[2 0 0 0 2]\n",
      "  [2 1 1 0 1]\n",
      "  [1 1 1 0 2]\n",
      "  [0 0 1 1 2]]\n",
      "\n",
      " [[1 1 2 0 2]\n",
      "  [0 1 1 0 0]\n",
      "  [1 1 1 2 0]\n",
      "  [1 0 1 0 0]]\n",
      "\n",
      " [[3 3 0 1 1]\n",
      "  [3 0 0 1 2]\n",
      "  [3 1 2 1 0]\n",
      "  [1 3 1 3 2]]\n",
      "\n",
      " [[2 3 1 0 1]\n",
      "  [2 3 0 2 3]\n",
      "  [3 1 3 2 3]\n",
      "  [3 0 2 1 2]]\n",
      "\n",
      " [[3 3 3 3 1]\n",
      "  [2 3 0 1 0]\n",
      "  [2 1 1 1 2]\n",
      "  [3 2 2 2 2]]] \n",
      "\n",
      " and the dimensions of the concatenated array are: \n",
      " (6, 4, 5)\n"
     ]
    }
   ],
   "source": [
    "\n",
    "array1 = np.random.randint(3, size = (3, 4, 5))\n",
    "array2 = np.random.randint(4, size = (3, 4, 5))\n",
    "\n",
    "concatenated_array = np.concatenate((array1, array2), axis = 0)  # Axis = None flatten and joins \n",
    "\n",
    "print(\"Array 1 is \\n\", array1, \"\\n\\n\")\n",
    "print(\"Array 2 is \\n\", array2, \"\\n\\n\")\n",
    "print(\"Concatenated array is \\n\", concatenated_array, \"\\n\\n\", \"and the dimensions of the concatenated array are: \\n\", concatenated_array.shape)"
   ]
  },
  {
   "cell_type": "markdown",
   "metadata": {},
   "source": [
    "#### Slicing "
   ]
  },
  {
   "cell_type": "markdown",
   "metadata": {},
   "source": [
    "##### Array : [ 1, 2, 3, 4, 5]\n",
    "---\n",
    "##### Index:    0, 1, 2, 3, 4\n",
    "---\n",
    "##### Index:   -5,-4,-3,-2,-1\n",
    "---"
   ]
  },
  {
   "cell_type": "code",
   "execution_count": 93,
   "metadata": {},
   "outputs": [
    {
     "name": "stdout",
     "output_type": "stream",
     "text": [
      "Original array:\n",
      " [[[4 4 0 6 3]\n",
      "  [3 1 0 4 4]\n",
      "  [6 6 0 4 2]\n",
      "  [6 6 5 4 5]]\n",
      "\n",
      " [[5 3 4 0 4]\n",
      "  [4 3 1 5 2]\n",
      "  [4 5 0 4 3]\n",
      "  [5 5 6 2 3]]\n",
      "\n",
      " [[1 0 4 0 6]\n",
      "  [1 6 1 1 3]\n",
      "  [5 3 4 0 6]\n",
      "  [0 6 1 0 0]]] \n",
      "\n",
      "array[:,:,-2:]\n",
      " [[[6 3]\n",
      "  [4 4]\n",
      "  [4 2]\n",
      "  [4 5]]\n",
      "\n",
      " [[0 4]\n",
      "  [5 2]\n",
      "  [4 3]\n",
      "  [2 3]]\n",
      "\n",
      " [[0 6]\n",
      "  [1 3]\n",
      "  [0 6]\n",
      "  [0 0]]] \n",
      "\n",
      "\n"
     ]
    }
   ],
   "source": [
    "array = np.random.randint(7, size=(3,4,5))\n",
    "print('Original array:\\n', array, '\\n')\n",
    "\n",
    "print('array[:,:,-2:]\\n', array[:,:,-2:], '\\n\\n')"
   ]
  },
  {
   "cell_type": "markdown",
   "metadata": {},
   "source": [
    "### 4. Mathmatical Operations"
   ]
  },
  {
   "cell_type": "code",
   "execution_count": 103,
   "metadata": {},
   "outputs": [
    {
     "name": "stdout",
     "output_type": "stream",
     "text": [
      "Type of x <class 'numpy.ndarray'>\n",
      "Change to int x[0]:  1\n"
     ]
    }
   ],
   "source": [
    "x = np.array([1.0,2,3,4])\n",
    "print('Type of x',type(x))\n",
    "print('Change to int x[0]: ',x[0].astype(int))"
   ]
  },
  {
   "cell_type": "markdown",
   "metadata": {},
   "source": [
    "np.sum() ,np.mean(),np.std(), np.max(),np.amax()"
   ]
  },
  {
   "cell_type": "code",
   "execution_count": 3,
   "metadata": {},
   "outputs": [
    {
     "data": {
      "text/plain": [
       "array([2, 5, 4])"
      ]
     },
     "execution_count": 3,
     "metadata": {},
     "output_type": "execute_result"
    }
   ],
   "source": [
    "# Elementwise Maximum\n",
    "np.maximum([2, 3, 4], [1, 5, 2])"
   ]
  },
  {
   "cell_type": "markdown",
   "metadata": {},
   "source": [
    "### np.where: apply elementwise condition"
   ]
  },
  {
   "cell_type": "code",
   "execution_count": 5,
   "metadata": {},
   "outputs": [
    {
     "name": "stdout",
     "output_type": "stream",
     "text": [
      "a: [0 1 2 3 4 5 6 7 8 9]\n",
      " Element cond : [ 0  1  2  3  4 50 60 70 80 90]\n"
     ]
    }
   ],
   "source": [
    "a = np.arange(10)\n",
    "print(f'a: {a}\\n Element cond : {np.where(a < 5, a, 10*a)}')"
   ]
  },
  {
   "cell_type": "markdown",
   "metadata": {},
   "source": [
    "#### Element wise "
   ]
  },
  {
   "cell_type": "code",
   "execution_count": 6,
   "metadata": {},
   "outputs": [
    {
     "name": "stdout",
     "output_type": "stream",
     "text": [
      "First array, array1 is \n",
      ": [[2 3 2 0 0]\n",
      " [1 1 2 2 2]\n",
      " [0 4 3 0 2]\n",
      " [2 2 1 1 0]] \n",
      "\n",
      "Second array, array2 is \n",
      ": [[1 1 0 2 5]\n",
      " [2 4 5 2 5]\n",
      " [4 2 0 4 0]\n",
      " [2 3 0 0 1]] \n",
      "\n",
      "The element wise product is \n",
      " [[ 2  3  0  0  0]\n",
      " [ 2  4 10  4 10]\n",
      " [ 0  8  0  0  0]\n",
      " [ 4  6  0  0  0]] \n",
      " and the dimension of the resulting product is \n",
      "\n",
      " (4, 5) \n",
      "\n"
     ]
    }
   ],
   "source": [
    "\n",
    "array1 = np.random.randint(5, size = (4, 5))\n",
    "array2 = np.random.randint(6, size = ( 4, 5))\n",
    "\n",
    "Hadmarad_product = array1 *  array2# OR np.multiply(array1, array2)\n",
    "print(\"First array, array1 is \\n:\", array1, \"\\n\")\n",
    "print(\"Second array, array2 is \\n:\", array2, \"\\n\")\n",
    "print(\"The element wise product is \\n\", Hadmarad_product, \"\\n and the dimension of the resulting product is\",  \"\\n\\n\",  Hadmarad_product.shape, \"\\n\")"
   ]
  },
  {
   "cell_type": "markdown",
   "metadata": {},
   "source": [
    "### Dot Product "
   ]
  },
  {
   "cell_type": "code",
   "execution_count": 9,
   "metadata": {},
   "outputs": [
    {
     "name": "stdout",
     "output_type": "stream",
     "text": [
      "[[3 2 2]\n",
      " [0 1 0]] (2, 3) \n",
      "\n",
      " [[2 1]\n",
      " [1 2]\n",
      " [2 2]] (3, 2) \n",
      "\n",
      " [[12 11]\n",
      " [ 1  2]] (2, 2)\n"
     ]
    }
   ],
   "source": [
    "matrix1 = np.random.randint(4, size = (2, 3))\n",
    "matrix2 = np.random.randint(4, size = (3, 2))\n",
    "\n",
    "product = matrix1 @ matrix2 #matrix1.dot(matrix2) or np.matmul(A,B) or np.dot(A,B)\n",
    "print(matrix1,matrix1.shape,'\\n\\n',matrix2,matrix2.shape,'\\n\\n',product, product.shape)"
   ]
  },
  {
   "cell_type": "markdown",
   "metadata": {},
   "source": [
    "### Tensor Dot : https://stackoverflow.com/questions/41870228/understanding-tensordot"
   ]
  },
  {
   "cell_type": "code",
   "execution_count": 19,
   "metadata": {},
   "outputs": [],
   "source": [
    "A = np.random.randint(2, size=(2, 3, 5))\n",
    "B = np.random.randint(2, size=(3, 2, 4))"
   ]
  },
  {
   "cell_type": "code",
   "execution_count": 21,
   "metadata": {},
   "outputs": [
    {
     "data": {
      "text/plain": [
       "array([[[0, 0, 0, 0, 1],\n",
       "        [0, 0, 1, 0, 1],\n",
       "        [1, 1, 0, 0, 0]],\n",
       "\n",
       "       [[1, 1, 1, 0, 1],\n",
       "        [1, 1, 1, 1, 1],\n",
       "        [0, 0, 1, 0, 0]]])"
      ]
     },
     "execution_count": 21,
     "metadata": {},
     "output_type": "execute_result"
    }
   ],
   "source": [
    "A"
   ]
  },
  {
   "cell_type": "code",
   "execution_count": 22,
   "metadata": {},
   "outputs": [
    {
     "data": {
      "text/plain": [
       "array([[[0, 0, 0, 1],\n",
       "        [1, 0, 1, 0]],\n",
       "\n",
       "       [[1, 0, 0, 0],\n",
       "        [0, 1, 0, 1]],\n",
       "\n",
       "       [[0, 1, 0, 0],\n",
       "        [1, 0, 1, 0]]])"
      ]
     },
     "execution_count": 22,
     "metadata": {},
     "output_type": "execute_result"
    }
   ],
   "source": [
    "B"
   ]
  },
  {
   "cell_type": "markdown",
   "metadata": {},
   "source": [
    "\n"
   ]
  },
  {
   "cell_type": "code",
   "execution_count": 33,
   "metadata": {},
   "outputs": [
    {
     "name": "stdout",
     "output_type": "stream",
     "text": [
      "[[[ 0.  1.  2.  3.  4.]\n",
      "  [ 5.  6.  7.  8.  9.]\n",
      "  [10. 11. 12. 13. 14.]\n",
      "  [15. 16. 17. 18. 19.]]\n",
      "\n",
      " [[20. 21. 22. 23. 24.]\n",
      "  [25. 26. 27. 28. 29.]\n",
      "  [30. 31. 32. 33. 34.]\n",
      "  [35. 36. 37. 38. 39.]]\n",
      "\n",
      " [[40. 41. 42. 43. 44.]\n",
      "  [45. 46. 47. 48. 49.]\n",
      "  [50. 51. 52. 53. 54.]\n",
      "  [55. 56. 57. 58. 59.]]]\n",
      "[[[ 0.  1.]\n",
      "  [ 2.  3.]\n",
      "  [ 4.  5.]]\n",
      "\n",
      " [[ 6.  7.]\n",
      "  [ 8.  9.]\n",
      "  [10. 11.]]\n",
      "\n",
      " [[12. 13.]\n",
      "  [14. 15.]\n",
      "  [16. 17.]]\n",
      "\n",
      " [[18. 19.]\n",
      "  [20. 21.]\n",
      "  [22. 23.]]]\n",
      "\n",
      " [[4400. 4730.]\n",
      " [4532. 4874.]\n",
      " [4664. 5018.]\n",
      " [4796. 5162.]\n",
      " [4928. 5306.]] (5, 2)\n"
     ]
    },
    {
     "data": {
      "text/plain": [
       "array([[ True,  True],\n",
       "       [ True,  True],\n",
       "       [ True,  True],\n",
       "       [ True,  True],\n",
       "       [ True,  True]])"
      ]
     },
     "execution_count": 33,
     "metadata": {},
     "output_type": "execute_result"
    }
   ],
   "source": [
    "a = np.arange(60.).reshape(3,4,5)\n",
    "b = np.arange(24.).reshape(4,3,2)\n",
    "c = np.tensordot(a,b, axes=([1,0],[0,1]))\n",
    "c.shape\n",
    "print(a)\n",
    "print(b)\n",
    "print('\\n',c,c.shape)\n",
    "\n",
    "\n",
    "\n",
    "\n",
    "\n",
    "# A slower but equivalent way of computing the same...\n",
    "d = np.zeros((5,2))\n",
    "for i in range(5):\n",
    "  for j in range(2):\n",
    "    for k in range(3):\n",
    "      for n in range(4):\n",
    "        d[i,j] += a[k,n,i] * b[n,k,j]\n",
    "c == d"
   ]
  },
  {
   "cell_type": "markdown",
   "metadata": {},
   "source": [
    "## Equivalently:  Sumreduction of given axis\n",
    "## d[i,j] = (a[: , : , i] * b[ : , : , j].T).sum()"
   ]
  },
  {
   "cell_type": "code",
   "execution_count": 48,
   "metadata": {},
   "outputs": [
    {
     "data": {
      "text/plain": [
       "4400.0"
      ]
     },
     "execution_count": 48,
     "metadata": {},
     "output_type": "execute_result"
    }
   ],
   "source": [
    "(a[:,:,0] * b[:,:,0].T).sum()"
   ]
  },
  {
   "cell_type": "code",
   "execution_count": 24,
   "metadata": {},
   "outputs": [
    {
     "data": {
      "text/plain": [
       "array([[[[1, 0, 1, 0],\n",
       "         [0, 1, 0, 1],\n",
       "         [1, 0, 1, 0]],\n",
       "\n",
       "        [[1, 0, 1, 0],\n",
       "         [0, 1, 0, 1],\n",
       "         [1, 0, 1, 0]],\n",
       "\n",
       "        [[1, 0, 1, 0],\n",
       "         [0, 1, 0, 1],\n",
       "         [1, 0, 1, 0]],\n",
       "\n",
       "        [[0, 0, 0, 0],\n",
       "         [0, 0, 0, 0],\n",
       "         [0, 0, 0, 0]],\n",
       "\n",
       "        [[1, 0, 1, 1],\n",
       "         [1, 1, 0, 1],\n",
       "         [1, 1, 1, 0]]],\n",
       "\n",
       "\n",
       "       [[[1, 0, 1, 0],\n",
       "         [0, 1, 0, 1],\n",
       "         [1, 0, 1, 0]],\n",
       "\n",
       "        [[1, 0, 1, 0],\n",
       "         [0, 1, 0, 1],\n",
       "         [1, 0, 1, 0]],\n",
       "\n",
       "        [[1, 0, 1, 1],\n",
       "         [1, 1, 0, 1],\n",
       "         [1, 1, 1, 0]],\n",
       "\n",
       "        [[1, 0, 1, 0],\n",
       "         [0, 1, 0, 1],\n",
       "         [1, 0, 1, 0]],\n",
       "\n",
       "        [[1, 0, 1, 1],\n",
       "         [1, 1, 0, 1],\n",
       "         [1, 1, 1, 0]]],\n",
       "\n",
       "\n",
       "       [[[0, 0, 0, 1],\n",
       "         [1, 0, 0, 0],\n",
       "         [0, 1, 0, 0]],\n",
       "\n",
       "        [[0, 0, 0, 1],\n",
       "         [1, 0, 0, 0],\n",
       "         [0, 1, 0, 0]],\n",
       "\n",
       "        [[1, 0, 1, 0],\n",
       "         [0, 1, 0, 1],\n",
       "         [1, 0, 1, 0]],\n",
       "\n",
       "        [[0, 0, 0, 0],\n",
       "         [0, 0, 0, 0],\n",
       "         [0, 0, 0, 0]],\n",
       "\n",
       "        [[0, 0, 0, 0],\n",
       "         [0, 0, 0, 0],\n",
       "         [0, 0, 0, 0]]]])"
      ]
     },
     "execution_count": 24,
     "metadata": {},
     "output_type": "execute_result"
    }
   ],
   "source": [
    "np.tensordot(A, B, axes=((0),(1)))"
   ]
  },
  {
   "cell_type": "markdown",
   "metadata": {},
   "source": [
    "The idea with tensordot is pretty simple - We input the arrays and the respective axes along which the sum-reductions are intended. The axes that take part in sum-reduction are removed in the output and all of the remaining axes from the input arrays are spread-out as different axes in the output keeping the order in which the input arrays are fed"
   ]
  },
  {
   "cell_type": "markdown",
   "metadata": {},
   "source": [
    "In [9]: np.tensordot(A, B, axes=((0),(1))).shape\n",
    "Out[9]: (6, 5, 3, 4)\n",
    "\n",
    "A : (2, 6, 5) -> reduction of axis=0\n",
    "B : (3, 2, 4) -> reduction of axis=1\n",
    "\n",
    "Output : `(2, 6, 5)`, `(3, 2, 4)` ===(2 gone)==> `(6,5)` + `(3,4)` => `(6,5,3,4)`"
   ]
  },
  {
   "cell_type": "markdown",
   "metadata": {},
   "source": [
    "In [12]: np.tensordot(A, B, axes=((0,1),(1,0))).shape\n",
    "Out[12]: (5, 4)\n",
    "\n",
    "A : (2, 3, 5) -> reduction of axis=(0,1)\n",
    "B : (3, 2, 4) -> reduction of axis=(1,0)\n",
    "\n",
    "Output : `(2, 3, 5)`, `(3, 2, 4)` ===(2,3 gone)==> `(5)` + `(4)` => `(5,4)`\n"
   ]
  },
  {
   "cell_type": "markdown",
   "metadata": {},
   "source": [
    "$$\n",
    "\\begin{aligned}\n",
    "u \\otimes v \n",
    "&=  \n",
    "\\left(\\begin{array}{cc} \n",
    "u_1\n",
    "\\left(\\begin{array}{cc} \n",
    "v_1 & v_2 & v_3\n",
    "\\end{array}\\right) \n",
    "\\\\\n",
    "u_2\n",
    "\\left(\\begin{array}{cc} \n",
    "v_1 & v_2 & v_3\n",
    "\\end{array}\\right) \n",
    "\\\\\n",
    "u_3\n",
    "\\left(\\begin{array}{cc} \n",
    "v_1 & v_2 & v_3\n",
    "\\end{array}\\right)\n",
    "\\end{array}\\right) \\\\\n",
    "&=  \n",
    "\\left(\\begin{array}{cc} \n",
    "\\left(\\begin{array}{cc} \n",
    "u_1v_1 & u_1v_2 & u_1v_3\n",
    "\\end{array}\\right) \n",
    "\\\\\n",
    "\\left(\\begin{array}{cc} \n",
    "u_2v_1 & u_2v_2 & u_2v_3\n",
    "\\end{array}\\right) \n",
    "\\\\\n",
    "\\left(\\begin{array}{cc} \n",
    "u_3v_1 & u_3v_2 & u_3v_3\n",
    "\\end{array}\\right)\n",
    "\\end{array}\\right) \\\\\n",
    "&=\n",
    "\\left(\\begin{array}{cc} \n",
    "u_1v_1 & u_1v_2 & u_1v_3\\\\\n",
    "u_2v_1 & u_2v_2 & u_2v_3\\\\\n",
    "u_3v_1 & u_3v_2 & u_3v_3\n",
    "\\end{array}\\right)\n",
    "\\end{aligned}\n",
    "$$"
   ]
  },
  {
   "cell_type": "markdown",
   "metadata": {},
   "source": [
    "Then the tensor array product of the vector arrays and the matrix array is calculated as follows:\n",
    "\n",
    "$\n",
    "\\left(\\begin{array}{cc} \n",
    "a_{0} \\\\ a_{1} \\\\ a_{2}\n",
    "\\end{array}\\right)\n",
    "\\otimes\n",
    "\\left(\\begin{array}{cc} \n",
    "b_{00} & b_{01} & b_{02} & b_{03}\\\\\n",
    "b_{10} & b_{11} & b_{12} & b_{13}\\\\\n",
    "b_{20} & b_{21} & b_{22} & b_{23}\\\\\n",
    "b_{30} & b_{31} & b_{32} & b_{33}\n",
    "\\end{array}\\right)\n",
    "$\n",
    "\n",
    "\n",
    "$\n",
    "\\begin{aligned}\n",
    "\\: \\: \\: \\: \\: \\: \\: \\: &=\n",
    "\\left(\\begin{array}{cc} \n",
    "a_{0}\n",
    "\\left(\\begin{array}{cc} \n",
    "b_{00} & b_{01} & b_{02} & b_{03}\\\\\n",
    "b_{10} & b_{11} & b_{12} & b_{13}\\\\\n",
    "b_{20} & b_{21} & b_{22} & b_{23}\\\\\n",
    "b_{30} & b_{31} & b_{32} & b_{33}\n",
    "\\end{array}\\right) \\\\\n",
    "a_{1}\n",
    "\\left(\\begin{array}{cc} \n",
    "b_{00} & b_{01} & b_{02} & b_{03}\\\\\n",
    "b_{10} & b_{11} & b_{12} & b_{13}\\\\\n",
    "b_{20} & b_{21} & b_{22} & b_{23}\\\\\n",
    "b_{30} & b_{31} & b_{32} & b_{33}\n",
    "\\end{array}\\right) \\\\\n",
    "a_{2}\n",
    "\\left(\\begin{array}{cc} \n",
    "b_{00} & b_{01} & b_{02} & b_{03}\\\\\n",
    "b_{10} & b_{11} & b_{12} & b_{13}\\\\\n",
    "b_{20} & b_{21} & b_{22} & b_{23}\\\\\n",
    "b_{30} & b_{31} & b_{32} & b_{33}\n",
    "\\end{array}\\right) \n",
    "\\end{array}\\right) \\\\ &=\n",
    "\\left(\\begin{array}{cc} \n",
    "a_{0}\n",
    "\\left(\\begin{array}{cc} \n",
    "b_{00} & b_{01} & b_{02} & b_{03}\\\\\n",
    "b_{10} & b_{11} & b_{12} & b_{13}\\\\\n",
    "b_{20} & b_{21} & b_{22} & b_{23}\\\\\n",
    "b_{30} & b_{31} & b_{32} & b_{33}\n",
    "\\end{array}\\right) ,\n",
    "a_{1}\n",
    "\\left(\\begin{array}{cc} \n",
    "b_{00} & b_{01} & b_{02} & b_{03}\\\\\n",
    "b_{10} & b_{11} & b_{12} & b_{13}\\\\\n",
    "b_{20} & b_{21} & b_{22} & b_{23}\\\\\n",
    "b_{30} & b_{31} & b_{32} & b_{33}\n",
    "\\end{array}\\right) ,\n",
    "a_{2}\n",
    "\\left(\\begin{array}{cc} \n",
    "b_{00} & b_{01} & b_{02} & b_{03}\\\\\n",
    "b_{10} & b_{11} & b_{12} & b_{13}\\\\\n",
    "b_{20} & b_{21} & b_{22} & b_{23}\\\\\n",
    "b_{30} & b_{31} & b_{32} & b_{33}\n",
    "\\end{array}\\right) \n",
    "\\end{array}\\right) \\\\\n",
    "&=\n",
    "\\left(\\begin{array}{cc} \n",
    "\\left(\\begin{array}{cc} \n",
    "a_{0}b_{00} & a_{0}b_{01} & a_{0}b_{02} & a_{0}b_{03}\\\\\n",
    "a_{0}b_{10} & a_{0}b_{11} & a_{0}b_{12} & a_{0}b_{13}\\\\\n",
    "a_{0}b_{20} & a_{0}b_{21} & a_{0}b_{22} & a_{0}b_{23}\\\\\n",
    "a_{0}b_{30} & a_{0}b_{31} & a_{0}b_{32} & a_{0}b_{33}\n",
    "\\end{array}\\right)\n",
    ",\n",
    "\\left(\\begin{array}{cc} \n",
    "a_{1}b_{00} & a_{1}b_{01} & a_{1}b_{02} & a_{1}b_{03}\\\\\n",
    "a_{1}b_{10} & a_{1}b_{11} & a_{1}b_{12} & a_{1}b_{13}\\\\\n",
    "a_{1}b_{20} & a_{1}b_{21} & a_{1}b_{22} & a_{1}b_{23}\\\\\n",
    "a_{1}b_{30} & a_{1}b_{31} & a_{1}b_{32} & a_{1}b_{33}\n",
    "\\end{array}\\right)\n",
    ",\n",
    "\\left(\\begin{array}{cc} \n",
    "a_{2}b_{00} & a_{2}b_{01} & a_{2}b_{02} & a_{2}b_{03}\\\\\n",
    "a_{2}b_{10} & a_{2}b_{11} & a_{2}b_{12} & a_{2}b_{13}\\\\\n",
    "a_{2}b_{20} & a_{2}b_{21} & a_{2}b_{22} & a_{2}b_{23}\\\\\n",
    "a_{2}b_{30} & a_{2}b_{31} & a_{2}b_{32} & a_{2}b_{33}\n",
    "\\end{array}\\right)\n",
    "\\end{array}\\right) \\\\\n",
    "&=\n",
    "\\left(\\begin{array}{cc} \n",
    "\\left(\\begin{array}{cc} \n",
    "\\tau_{000} & \\tau_{001} & \\tau_{002} & \\tau_{003}\\\\\n",
    "\\tau_{010} & \\tau_{011} & \\tau_{012} & \\tau_{013}\\\\\n",
    "\\tau_{020} & \\tau_{021} & \\tau_{022} & \\tau_{023}\\\\\n",
    "\\tau_{030} & \\tau_{031} & \\tau_{032} & \\tau_{033}\n",
    "\\end{array}\\right)\n",
    ",\n",
    "\\left(\\begin{array}{cc} \n",
    "\\tau_{100} & \\tau_{101} & \\tau_{102} & \\tau_{103}\\\\\n",
    "\\tau_{110} & \\tau_{111} & \\tau_{112} & \\tau_{113}\\\\\n",
    "\\tau_{120} & \\tau_{121} & \\tau_{122} & \\tau_{123}\\\\\n",
    "\\tau_{130} & \\tau_{131} & \\tau_{132} & \\tau_{133}\n",
    "\\end{array}\\right)\n",
    ",\n",
    "\\left(\\begin{array}{cc} \n",
    "\\tau_{200} & \\tau_{201} & \\tau_{202} & \\tau_{203}\\\\\n",
    "\\tau_{210} & \\tau_{211} & \\tau_{212} & \\tau_{213}\\\\\n",
    "\\tau_{220} & \\tau_{221} & \\tau_{222} & \\tau_{223}\\\\\n",
    "\\tau_{230} & \\tau_{231} & \\tau_{232} & \\tau_{233}\n",
    "\\end{array}\\right)\n",
    "\\end{array}\\right)\n",
    "\\end{aligned}\n",
    "$\n",
    "\n",
    "This tensor array could be described as a 3D matrix array.`"
   ]
  },
  {
   "cell_type": "code",
   "execution_count": 15,
   "metadata": {},
   "outputs": [
    {
     "name": "stdout",
     "output_type": "stream",
     "text": [
      "A = \n",
      " [0 6 2]\n",
      "B = \n",
      " [[1 1 3 6]\n",
      " [0 1 8 6]\n",
      " [1 1 5 7]\n",
      " [3 5 7 5]]\n",
      "A⨂B =\n",
      " [[[ 0  0  0  0]\n",
      "  [ 0  0  0  0]\n",
      "  [ 0  0  0  0]\n",
      "  [ 0  0  0  0]]\n",
      "\n",
      " [[ 6  6 18 36]\n",
      "  [ 0  6 48 36]\n",
      "  [ 6  6 30 42]\n",
      "  [18 30 42 30]]\n",
      "\n",
      " [[ 2  2  6 12]\n",
      "  [ 0  2 16 12]\n",
      "  [ 2  2 10 14]\n",
      "  [ 6 10 14 10]]]\n"
     ]
    }
   ],
   "source": [
    "A = np.random.randint(9, size=(3))\n",
    "B = np.random.randint(9, size=(4,4))\n",
    "\n",
    "print(\"A = \\n\", A)\n",
    "\n",
    "print(\"B = \\n\", B)\n",
    "\n",
    "print(\"A⨂B =\\n\", np.tensordot(A, B, axes=0))"
   ]
  },
  {
   "cell_type": "markdown",
   "metadata": {},
   "source": [
    "### Padding"
   ]
  },
  {
   "cell_type": "code",
   "execution_count": 50,
   "metadata": {},
   "outputs": [
    {
     "name": "stdout",
     "output_type": "stream",
     "text": [
      "A =\n",
      " [array([[3, 1, 4, 1],\n",
      "       [5, 9, 2, 6],\n",
      "       [5, 3, 5, 8]])\n",
      " array([[9, 7, 9, 3],\n",
      "       [2, 3, 8, 4]])\n",
      " array([[3, 3, 8, 3],\n",
      "       [2, 7, 9, 5],\n",
      "       [0, 2, 8, 8],\n",
      "       [6, 2, 6, 4]])]\n"
     ]
    }
   ],
   "source": [
    "a1 = np.array([np.array([3, 1, 4, 1]), \n",
    "               np.array([5, 9, 2, 6]), \n",
    "               np.array([5, 3, 5, 8])])\n",
    "\n",
    "a2 = np.array([np.array([9, 7, 9, 3]),\n",
    "               np.array([2, 3, 8, 4])])\n",
    "\n",
    "a3 = np.array([np.array([3, 3, 8, 3]), \n",
    "               np.array([2, 7, 9, 5]),\n",
    "               np.array([0, 2, 8, 8]), \n",
    "               np.array([6, 2, 6, 4])])\n",
    "\n",
    "A = np.array([a1, a2, a3],dtype=object)\n",
    "\n",
    "print(\"A =\\n\", A.T)"
   ]
  },
  {
   "cell_type": "markdown",
   "metadata": {},
   "source": [
    "Cutoff each array to make them equal size (First two or last two in this example)"
   ]
  },
  {
   "cell_type": "code",
   "execution_count": 52,
   "metadata": {},
   "outputs": [
    {
     "name": "stdout",
     "output_type": "stream",
     "text": [
      "A =\n",
      " [array([[3, 1, 4, 1],\n",
      "       [5, 9, 2, 6],\n",
      "       [5, 3, 5, 8]])\n",
      " array([[9, 7, 9, 3],\n",
      "       [2, 3, 8, 4]])\n",
      " array([[3, 3, 8, 3],\n",
      "       [2, 7, 9, 5],\n",
      "       [0, 2, 8, 8],\n",
      "       [6, 2, 6, 4]])]\n",
      "A1 =\n",
      " [[[3 1 4 1]\n",
      "  [5 9 2 6]]\n",
      "\n",
      " [[9 7 9 3]\n",
      "  [2 3 8 4]]\n",
      "\n",
      " [[3 3 8 3]\n",
      "  [2 7 9 5]]]\n"
     ]
    }
   ],
   "source": [
    "A1 = [record[:2] for record in A]\n",
    "A1 = np.array(A1)\n",
    "\n",
    "print(\"A =\\n\", A)\n",
    "\n",
    "print(\"A1 =\\n\", A1)"
   ]
  },
  {
   "cell_type": "markdown",
   "metadata": {},
   "source": [
    "Padd the bottom with zero "
   ]
  },
  {
   "cell_type": "markdown",
   "metadata": {},
   "source": [
    "pad_width{sequence, array_like, int}\n",
    "---\n",
    "Number of values padded to the edges of each axis. ((before_1, after_1), … (before_N, after_N)) unique pad widths for each axis. ((before, after),) yields same before and after pad for each axis. (pad,) or int is a shortcut for before = after = pad width for all axes."
   ]
  },
  {
   "cell_type": "code",
   "execution_count": 53,
   "metadata": {},
   "outputs": [
    {
     "name": "stdout",
     "output_type": "stream",
     "text": [
      "A =\n",
      " [array([[3, 1, 4, 1],\n",
      "       [5, 9, 2, 6],\n",
      "       [5, 3, 5, 8]])\n",
      " array([[9, 7, 9, 3],\n",
      "       [2, 3, 8, 4]])\n",
      " array([[3, 3, 8, 3],\n",
      "       [2, 7, 9, 5],\n",
      "       [0, 2, 8, 8],\n",
      "       [6, 2, 6, 4]])]\n",
      "A3 =\n",
      " [[[3 1 4 1]\n",
      "  [5 9 2 6]\n",
      "  [5 3 5 8]\n",
      "  [0 0 0 0]]\n",
      "\n",
      " [[9 7 9 3]\n",
      "  [2 3 8 4]\n",
      "  [0 0 0 0]\n",
      "  [0 0 0 0]]\n",
      "\n",
      " [[3 3 8 3]\n",
      "  [2 7 9 5]\n",
      "  [0 2 8 8]\n",
      "  [6 2 6 4]]]\n"
     ]
    }
   ],
   "source": [
    "pad_below1 = 4 - len(a1)\n",
    "pad_below2 = 4 - len(a2)\n",
    "pad_below3 = 4 - len(a3)\n",
    "\n",
    "pad_above = 0\n",
    "pad_left = 0\n",
    "par_right = 0\n",
    "\n",
    "n_add = [((pad_above, pad_below1), (pad_left, par_right)), \n",
    "         ((pad_above, pad_below2), (pad_left, par_right)), \n",
    "         ((pad_above, pad_below3), (pad_left, par_right))]\n",
    "\n",
    "A3 = [np.pad(A[i], pad_width = n_add[i], mode = 'constant', constant_values = 0) for i in range(3)]\n",
    "A3 = np.array(A3)\n",
    "\n",
    "print(\"A =\\n\", A)\n",
    "\n",
    "print(\"A3 =\\n\", A3)"
   ]
  },
  {
   "cell_type": "markdown",
   "metadata": {},
   "source": [
    "Padd above "
   ]
  },
  {
   "cell_type": "code",
   "execution_count": 54,
   "metadata": {},
   "outputs": [
    {
     "name": "stdout",
     "output_type": "stream",
     "text": [
      "A =\n",
      " [array([[3, 1, 4, 1],\n",
      "       [5, 9, 2, 6],\n",
      "       [5, 3, 5, 8]])\n",
      " array([[9, 7, 9, 3],\n",
      "       [2, 3, 8, 4]])\n",
      " array([[3, 3, 8, 3],\n",
      "       [2, 7, 9, 5],\n",
      "       [0, 2, 8, 8],\n",
      "       [6, 2, 6, 4]])]\n",
      "A4 =\n",
      " [[[0 0 0 0]\n",
      "  [3 1 4 1]\n",
      "  [5 9 2 6]\n",
      "  [5 3 5 8]]\n",
      "\n",
      " [[0 0 0 0]\n",
      "  [0 0 0 0]\n",
      "  [9 7 9 3]\n",
      "  [2 3 8 4]]\n",
      "\n",
      " [[3 3 8 3]\n",
      "  [2 7 9 5]\n",
      "  [0 2 8 8]\n",
      "  [6 2 6 4]]]\n"
     ]
    }
   ],
   "source": [
    "pad_above1 = 4 - len(a1)\n",
    "pad_above2 = 4 - len(a2)\n",
    "pad_above3 = 4 - len(a3)\n",
    "\n",
    "pad_below = 0\n",
    "pad_left = 0\n",
    "par_right = 0\n",
    "\n",
    "n_add = [((pad_above1, pad_below), (pad_left, par_right)), \n",
    "         ((pad_above2, pad_below), (pad_left, par_right)), \n",
    "         ((pad_above3, pad_below), (pad_left, par_right))]\n",
    "\n",
    "A4 = [np.pad(A[i], pad_width = n_add[i], mode = 'constant', constant_values = 0) for i in range(3)]\n",
    "A4 = np.array(A4)\n",
    "\n",
    "print(\"A =\\n\", A)\n",
    "\n",
    "print(\"A4 =\\n\", A4)"
   ]
  },
  {
   "cell_type": "markdown",
   "metadata": {},
   "source": [
    "### einsum"
   ]
  },
  {
   "cell_type": "markdown",
   "metadata": {},
   "source": [
    "Blog Post:\n",
    "For understanding : https://obilaniu6266h16.wordpress.com/2016/02/04/einstein-summation-in-numpy/\n",
    "\n",
    "For Some quick Uses : https://rockt.github.io/2018/04/30/einsum"
   ]
  },
  {
   "cell_type": "markdown",
   "metadata": {},
   "source": [
    "1. Vector inner product: \"a,a->\" (Assumes two vectors of same length)\n",
    "2. Vector element-wise product: \"a,a->a\" (Assumes two vectors of same length)\n",
    "3. Vector outer product: \"a,b->ab\" (Vectors not necessarily same length.)\n",
    "4. Matrix transposition: \"ab->ba\"\n",
    "5. Matrix diagonal: \"ii->i\"\n",
    "5. Matrix trace: \"ii->\"\n",
    "7. 1-D Sum: \"a->\"\n",
    "8. 2-D Sum: \"ab->\"\n",
    "9. 3-D Sum: \"abc->\"\n",
    "10. Matrix inner product \"ab,ab->\" (If you pass twice the same argument, it becomes a matrix L2 norm)\n",
    "11. Left-multiplication Matrix-Vector: \"ab,b->a\"\n",
    "12. Right-multiplication Vector-Matrix: \"a,ab->b\"\n",
    "13. Matrix Multiply: \"ab,bc->ac\"\n",
    "14. Batch Matrix Multiply: \"Yab,Ybc->Yac\"\n",
    "15. Quadratic form / Mahalanobis Distance: \"a,ab,b->\"\n",
    "…"
   ]
  },
  {
   "cell_type": "markdown",
   "metadata": {},
   "source": [
    "#### Under the hood"
   ]
  },
  {
   "cell_type": "markdown",
   "metadata": {},
   "source": [
    "![caption](einsum.png)"
   ]
  },
  {
   "cell_type": "markdown",
   "metadata": {},
   "source": [
    "#### Transpose  ||  x.T"
   ]
  },
  {
   "cell_type": "code",
   "execution_count": 73,
   "metadata": {},
   "outputs": [
    {
     "name": "stdout",
     "output_type": "stream",
     "text": [
      "Original:\n",
      " [[1 3 1]\n",
      " [8 8 8]] \n",
      "Transpose :\n",
      "[[1 8]\n",
      " [3 8]\n",
      " [1 8]]\n"
     ]
    }
   ],
   "source": [
    "x = np.random.randint(10,size=(2,3))\n",
    "x_T = np.einsum('ij -> ji',x)\n",
    "print(f'Original:\\n {x} \\nTranspose :\\n{x_T}')"
   ]
  },
  {
   "cell_type": "markdown",
   "metadata": {},
   "source": [
    "#### Sum  || x.sum()"
   ]
  },
  {
   "cell_type": "code",
   "execution_count": 75,
   "metadata": {},
   "outputs": [
    {
     "name": "stdout",
     "output_type": "stream",
     "text": [
      "Original:\n",
      " [[2 7 7]\n",
      " [2 7 3]] \n",
      " Sum :\n",
      "28\n"
     ]
    }
   ],
   "source": [
    "x = np.random.randint(10,size=(2,3))\n",
    "x_sum = np.einsum('ij -> ',x)\n",
    "print(f'Original:\\n {x} \\n Sum :\\n{x_sum}')"
   ]
  },
  {
   "cell_type": "markdown",
   "metadata": {},
   "source": [
    "### Sum || x.sum(axis=0)"
   ]
  },
  {
   "cell_type": "code",
   "execution_count": 82,
   "metadata": {},
   "outputs": [
    {
     "name": "stdout",
     "output_type": "stream",
     "text": [
      "Original:\n",
      " [[5 7 7]\n",
      " [3 3 3]] \n",
      " Sum_0 :\n",
      "[ 8 10 10]\n"
     ]
    }
   ],
   "source": [
    "x = np.random.randint(10,size=(2,3))\n",
    "x_sum0 = np.einsum('ij -> j',x)\n",
    "print(f'Original:\\n {x} \\n Sum_0 :\\n{x_sum0}')"
   ]
  },
  {
   "cell_type": "markdown",
   "metadata": {},
   "source": [
    "### Sum || x.sum(axis=1)"
   ]
  },
  {
   "cell_type": "code",
   "execution_count": 83,
   "metadata": {},
   "outputs": [
    {
     "name": "stdout",
     "output_type": "stream",
     "text": [
      "Original:\n",
      " [[0 9 5]\n",
      " [3 3 8]] \n",
      " Sum_1 :\n",
      "[14 14]\n"
     ]
    }
   ],
   "source": [
    "x = np.random.randint(10,size=(2,3))\n",
    "x_sum1 = np.einsum('ij -> i',x)\n",
    "print(f'Original:\\n {x} \\n Sum_1 :\\n{x_sum1}')"
   ]
  },
  {
   "cell_type": "markdown",
   "metadata": {},
   "source": [
    "### Dot-Product || a@b"
   ]
  },
  {
   "cell_type": "code",
   "execution_count": 89,
   "metadata": {},
   "outputs": [
    {
     "name": "stdout",
     "output_type": "stream",
     "text": [
      "Original:\n",
      " [[6 0 8]\n",
      " [4 3 2]] \n",
      "\n",
      " [[4 7 8 8]\n",
      " [5 4 8 2]\n",
      " [1 5 0 8]] \n",
      " product :\n",
      "[[ 32  82  48 112]\n",
      " [ 33  50  56  54]]\n"
     ]
    }
   ],
   "source": [
    "a = np.random.randint(10,size=(2,3))\n",
    "b = np.random.randint(10,size=(3,4))\n",
    "product = np.einsum('ij,jk->ik',a,b)\n",
    "print(f'Original:\\n {a} \\n\\n {b} \\n product :\\n{product}')"
   ]
  },
  {
   "cell_type": "markdown",
   "metadata": {},
   "source": [
    "### Hadamard Product(ElementWise) || a*b"
   ]
  },
  {
   "cell_type": "code",
   "execution_count": 3,
   "metadata": {},
   "outputs": [
    {
     "name": "stdout",
     "output_type": "stream",
     "text": [
      "Original:\n",
      " [[9 9 0]\n",
      " [1 7 3]] \n",
      "\n",
      " [[7 4 9]\n",
      " [7 5 9]] \n",
      " product :\n",
      "[[63 36  0]\n",
      " [ 7 35 27]]\n"
     ]
    }
   ],
   "source": [
    "a = np.random.randint(10,size=(2,3))\n",
    "b = np.random.randint(10,size=(2,3))\n",
    "product = np.einsum('ij,ij->ij',a,b)\n",
    "print(f'Original:\\n {a} \\n\\n {b} \\n product :\\n{product}')"
   ]
  },
  {
   "cell_type": "markdown",
   "metadata": {},
   "source": [
    "### Batch Matrix Multiplication"
   ]
  },
  {
   "cell_type": "code",
   "execution_count": 12,
   "metadata": {},
   "outputs": [
    {
     "name": "stdout",
     "output_type": "stream",
     "text": [
      "Original:\n",
      " [[[3 5 5 8 1]\n",
      "  [1 8 3 8 5]\n",
      "  [2 5 3 8 0]\n",
      "  [2 7 9 7 3]]\n",
      "\n",
      " [[8 9 4 5 7]\n",
      "  [2 6 0 5 2]\n",
      "  [8 7 1 2 5]\n",
      "  [2 9 1 0 9]]\n",
      "\n",
      " [[3 6 8 5 5]\n",
      "  [5 3 0 7 2]\n",
      "  [9 0 2 0 9]\n",
      "  [7 1 7 4 0]]] \n",
      " =========\n",
      " [[[8 2 9 5]\n",
      "  [3 2 6 2]\n",
      "  [5 8 6 5]\n",
      "  [9 4 9 9]\n",
      "  [8 9 9 1]]\n",
      "\n",
      " [[1 1 9 0]\n",
      "  [9 6 8 5]\n",
      "  [2 6 8 4]\n",
      "  [1 5 5 0]\n",
      "  [4 1 2 7]]\n",
      "\n",
      " [[2 9 2 6]\n",
      "  [5 7 2 7]\n",
      "  [6 0 4 2]\n",
      "  [5 5 9 8]\n",
      "  [8 6 6 0]]]\n",
      "  ++++++++++\n",
      "Batch Matrix Multiplication :\n",
      "[[[144  97 168 123]\n",
      "  [159 119 192 113]\n",
      "  [118  70 138 107]\n",
      "  [169 145 204 135]]\n",
      "\n",
      " [[130 118 215 110]\n",
      "  [ 69  65  95  44]\n",
      "  [ 95  71 156  74]\n",
      "  [121  71 116 112]]\n",
      "\n",
      " [[149 124 125 116]\n",
      "  [ 76 113  91 107]\n",
      "  [102 135  80  58]\n",
      "  [ 81  90  80  95]]]\n"
     ]
    }
   ],
   "source": [
    "a = np.random.randint(10,size=(3,4,5))\n",
    "b = np.random.randint(10,size=(3,5,4))\n",
    "product = np.einsum('ijk,ikl->ijl',a,b)\n",
    "print(f'Original:\\n {a} \\n =========\\n {b}\\n  ++++++++++\\nBatch Matrix Multiplication :\\n{product}')"
   ]
  },
  {
   "cell_type": "code",
   "execution_count": null,
   "metadata": {},
   "outputs": [],
   "source": []
  }
 ],
 "metadata": {
  "kernelspec": {
   "display_name": "Python 3",
   "language": "python",
   "name": "python3"
  },
  "language_info": {
   "codemirror_mode": {
    "name": "ipython",
    "version": 3
   },
   "file_extension": ".py",
   "mimetype": "text/x-python",
   "name": "python",
   "nbconvert_exporter": "python",
   "pygments_lexer": "ipython3",
   "version": "3.7.9"
  }
 },
 "nbformat": 4,
 "nbformat_minor": 4
}
